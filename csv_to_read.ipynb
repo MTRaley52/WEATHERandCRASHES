{
 "cells": [
  {
   "cell_type": "code",
   "execution_count": 14,
   "metadata": {},
   "outputs": [
    {
     "data": {
      "text/html": [
       "<div>\n",
       "<style scoped>\n",
       "    .dataframe tbody tr th:only-of-type {\n",
       "        vertical-align: middle;\n",
       "    }\n",
       "\n",
       "    .dataframe tbody tr th {\n",
       "        vertical-align: top;\n",
       "    }\n",
       "\n",
       "    .dataframe thead th {\n",
       "        text-align: right;\n",
       "    }\n",
       "</style>\n",
       "<table border=\"1\" class=\"dataframe\">\n",
       "  <thead>\n",
       "    <tr style=\"text-align: right;\">\n",
       "      <th></th>\n",
       "      <th>STATE</th>\n",
       "      <th>ST_CASE</th>\n",
       "      <th>VE_TOTAL</th>\n",
       "      <th>PERSONS</th>\n",
       "      <th>COUNTY</th>\n",
       "      <th>CITY</th>\n",
       "      <th>DAY</th>\n",
       "      <th>MONTH</th>\n",
       "      <th>YEAR</th>\n",
       "      <th>MILEPT</th>\n",
       "      <th>LATITUDE</th>\n",
       "      <th>LONGITUD</th>\n",
       "    </tr>\n",
       "  </thead>\n",
       "  <tbody>\n",
       "    <tr>\n",
       "      <th>0</th>\n",
       "      <td>Alabama</td>\n",
       "      <td>10001</td>\n",
       "      <td>1</td>\n",
       "      <td>1</td>\n",
       "      <td>127</td>\n",
       "      <td>0</td>\n",
       "      <td>1</td>\n",
       "      <td>1</td>\n",
       "      <td>2015</td>\n",
       "      <td>1754</td>\n",
       "      <td>33.878653</td>\n",
       "      <td>-87.325328</td>\n",
       "    </tr>\n",
       "    <tr>\n",
       "      <th>1</th>\n",
       "      <td>Alabama</td>\n",
       "      <td>10002</td>\n",
       "      <td>1</td>\n",
       "      <td>1</td>\n",
       "      <td>83</td>\n",
       "      <td>0</td>\n",
       "      <td>1</td>\n",
       "      <td>1</td>\n",
       "      <td>2015</td>\n",
       "      <td>3604</td>\n",
       "      <td>34.910442</td>\n",
       "      <td>-86.908708</td>\n",
       "    </tr>\n",
       "    <tr>\n",
       "      <th>2</th>\n",
       "      <td>Alabama</td>\n",
       "      <td>10003</td>\n",
       "      <td>1</td>\n",
       "      <td>2</td>\n",
       "      <td>11</td>\n",
       "      <td>0</td>\n",
       "      <td>1</td>\n",
       "      <td>1</td>\n",
       "      <td>2015</td>\n",
       "      <td>1958</td>\n",
       "      <td>32.142006</td>\n",
       "      <td>-85.758456</td>\n",
       "    </tr>\n",
       "    <tr>\n",
       "      <th>3</th>\n",
       "      <td>Alabama</td>\n",
       "      <td>10004</td>\n",
       "      <td>1</td>\n",
       "      <td>1</td>\n",
       "      <td>45</td>\n",
       "      <td>0</td>\n",
       "      <td>4</td>\n",
       "      <td>1</td>\n",
       "      <td>2015</td>\n",
       "      <td>566</td>\n",
       "      <td>31.439814</td>\n",
       "      <td>-85.510300</td>\n",
       "    </tr>\n",
       "    <tr>\n",
       "      <th>4</th>\n",
       "      <td>Alabama</td>\n",
       "      <td>10005</td>\n",
       "      <td>2</td>\n",
       "      <td>2</td>\n",
       "      <td>45</td>\n",
       "      <td>2050</td>\n",
       "      <td>7</td>\n",
       "      <td>1</td>\n",
       "      <td>2015</td>\n",
       "      <td>308</td>\n",
       "      <td>31.319331</td>\n",
       "      <td>-85.515100</td>\n",
       "    </tr>\n",
       "  </tbody>\n",
       "</table>\n",
       "</div>"
      ],
      "text/plain": [
       "     STATE  ST_CASE  VE_TOTAL  PERSONS  COUNTY  CITY  DAY  MONTH  YEAR  \\\n",
       "0  Alabama    10001         1        1     127     0    1      1  2015   \n",
       "1  Alabama    10002         1        1      83     0    1      1  2015   \n",
       "2  Alabama    10003         1        2      11     0    1      1  2015   \n",
       "3  Alabama    10004         1        1      45     0    4      1  2015   \n",
       "4  Alabama    10005         2        2      45  2050    7      1  2015   \n",
       "\n",
       "   MILEPT   LATITUDE   LONGITUD  \n",
       "0    1754  33.878653 -87.325328  \n",
       "1    3604  34.910442 -86.908708  \n",
       "2    1958  32.142006 -85.758456  \n",
       "3     566  31.439814 -85.510300  \n",
       "4     308  31.319331 -85.515100  "
      ]
     },
     "execution_count": 14,
     "metadata": {},
     "output_type": "execute_result"
    }
   ],
   "source": [
    "# Dependencies and Setup\n",
    "import pandas as pd\n",
    "import numpy as np\n",
    "import csv\n",
    "import matplotlib.pyplot as plt\n",
    "import requests\n",
    "import pandas as pd\n",
    "\n",
    "\n",
    "# File to Load (Remember to Change These)\n",
    "file_to_load = \"accident_clean.csv\"\n",
    "\n",
    " # Save config information.\n",
    "api_key=\"93d5fca255314e0c2740f5e63c0525be\"\n",
    "\n",
    "# Read Purchasing File and store into Pandas data frame\n",
    "accident_data = pd.read_csv(file_to_load)\n",
    "df=accident_data\n",
    "accident_data.head()"
   ]
  },
  {
   "cell_type": "code",
   "execution_count": 15,
   "metadata": {},
   "outputs": [
    {
     "data": {
      "text/plain": [
       "numpy.float64"
      ]
     },
     "execution_count": 15,
     "metadata": {},
     "output_type": "execute_result"
    }
   ],
   "source": [
    "df.drop('MILEPT', axis=1, inplace=True)\n",
    "type(df[\"LONGITUD\"][0])"
   ]
  },
  {
   "cell_type": "code",
   "execution_count": null,
   "metadata": {},
   "outputs": [],
   "source": []
  },
  {
   "cell_type": "code",
   "execution_count": 5,
   "metadata": {},
   "outputs": [],
   "source": [
    "url = \"http://api.openweathermap.org/data/2.5/weather?\"\n",
    "units = \"metric\"\n",
    "lat=df[\"LATITUDE\"]\n",
    "lon=df[\"LONGITUD\"]\n",
    "temp=[]\n",
    "\n",
    "\n",
    "\n",
    "\n",
    "# Build partial query URL\n",
    "query_url = f\"{url}&appid=93d5fca255314e0c2740f5e63c0525be&lat={lat}&lon={lon}\"\n",
    "\n",
    "\n",
    "for row in df:\n",
    "    \n",
    "    try:\n",
    "        \n",
    "    response = requests.get(query_url).json()\n",
    "    temp.append(response)\n",
    "    \n"
   ]
  },
  {
   "cell_type": "code",
   "execution_count": 6,
   "metadata": {},
   "outputs": [
    {
     "data": {
      "text/plain": [
       "[{'cod': '400', 'message': 'undefined is not a float'},\n",
       " {'cod': '400', 'message': 'undefined is not a float'},\n",
       " {'cod': '400', 'message': 'undefined is not a float'},\n",
       " {'cod': '400', 'message': 'undefined is not a float'},\n",
       " {'cod': '400', 'message': 'undefined is not a float'},\n",
       " {'cod': '400', 'message': 'undefined is not a float'},\n",
       " {'cod': '400', 'message': 'undefined is not a float'},\n",
       " {'cod': '400', 'message': 'undefined is not a float'},\n",
       " {'cod': '400', 'message': 'undefined is not a float'},\n",
       " {'cod': '400', 'message': 'undefined is not a float'},\n",
       " {'cod': '400', 'message': 'undefined is not a float'}]"
      ]
     },
     "execution_count": 6,
     "metadata": {},
     "output_type": "execute_result"
    }
   ],
   "source": [
    "temp"
   ]
  },
  {
   "cell_type": "code",
   "execution_count": null,
   "metadata": {},
   "outputs": [],
   "source": []
  },
  {
   "cell_type": "code",
   "execution_count": null,
   "metadata": {},
   "outputs": [],
   "source": []
  }
 ],
 "metadata": {
  "kernelspec": {
   "display_name": "Python 3",
   "language": "python",
   "name": "python3"
  },
  "language_info": {
   "codemirror_mode": {
    "name": "ipython",
    "version": 3
   },
   "file_extension": ".py",
   "mimetype": "text/x-python",
   "name": "python",
   "nbconvert_exporter": "python",
   "pygments_lexer": "ipython3",
   "version": "3.7.1"
  }
 },
 "nbformat": 4,
 "nbformat_minor": 2
}
